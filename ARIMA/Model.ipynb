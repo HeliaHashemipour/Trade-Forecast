{
 "cells": [
  {
   "cell_type": "code",
   "execution_count": null,
   "metadata": {},
   "outputs": [],
   "source": [
    "import os\n",
    "import pandas as pd\n",
    "\n",
    "# Directory where the CSV files are saved\n",
    "csv_files_directory = './'  # Change this to the directory where the CSV files are saved\n",
    "\n",
    "# Get a list of all CSV files that end with '_pop_data.csv'\n",
    "csv_files = [file for file in os.listdir(csv_files_directory) if file.endswith('_gdp_data.csv')]\n",
    "\n",
    "# Initialize a list to store DataFrames for each country\n",
    "country_dataframes = []\n",
    "\n",
    "# Loop through the CSV files and read them into DataFrames\n",
    "for csv_file in csv_files:\n",
    "    country_df = pd.read_csv(csv_file)\n",
    "    # print(os.path.splitext(csv_file)[0])\n",
    "    # country_df = country_df.sort_values(by='Year', ascending=True)\n",
    "    country_dataframes.append(country_df)\n"
   ]
  },
  {
   "cell_type": "code",
   "execution_count": null,
   "metadata": {},
   "outputs": [],
   "source": [
    "import pandas as pd\n",
    "import matplotlib.pyplot as plt\n",
    "import warnings\n",
    "warnings.filterwarnings('ignore')\n",
    "#load the data\n",
    "data = pd.read_csv('/Users/heliaa/University/Tivaa/Touba/gdp/canada_gdp_data.csv')\n",
    "\n",
    "# Sort the DataFrame in ascending order\n",
    "data = data.sort_values(by=data.columns.tolist())\n",
    "\n",
    "# Reset the index of the DataFrame\n",
    "data.reset_index(drop=True, inplace=True)\n",
    "\n",
    "#divide into train and validation set\n",
    "train = data[:int(0.7*(len(data)))]\n",
    "valid = data[int(0.7*(len(data))):]\n",
    "\n",
    "#preprocessing (since arima takes univariate series as input)\n",
    "train.drop('Year',axis=1,inplace=True)\n",
    "valid.drop('Year',axis=1,inplace=True)\n",
    "print(train.dtypes)"
   ]
  },
  {
   "cell_type": "code",
   "execution_count": null,
   "metadata": {},
   "outputs": [],
   "source": [
    "#building the model\n",
    "\n",
    "from pmdarima.arima import auto_arima\n",
    "\n",
    "model = auto_arima(train, trace=True, error_action='ignore', suppress_warnings=True)\n",
    "model.fit(train)\n",
    "\n",
    "forecast = model.predict(n_periods=len(valid))\n",
    "forecast = pd.DataFrame(forecast,index = valid.index,columns=['Prediction'])\n",
    "\n",
    "#plot the predictions for validation set\n",
    "plt.plot(train, label='Train')\n",
    "plt.plot(valid, label='Valid')\n",
    "plt.plot(forecast, label='Prediction')\n",
    "plt.show()"
   ]
  },
  {
   "cell_type": "code",
   "execution_count": null,
   "metadata": {},
   "outputs": [],
   "source": [
    "#calculate rmse\n",
    "from math import sqrt\n",
    "from sklearn.metrics import mean_squared_error\n",
    "\n",
    "rms = sqrt(mean_squared_error(valid,forecast))\n",
    "print(rms)"
   ]
  },
  {
   "cell_type": "code",
   "execution_count": null,
   "metadata": {},
   "outputs": [],
   "source": [
    "from statsmodels.tsa.arima_model import ARIMA\n",
    "import pmdarima as pm\n",
    "\n",
    "data = pd.read_csv('canada_gdp_data.csv')\n",
    "\n",
    "# Sort the DataFrame in ascending order\n",
    "data = data.sort_values(by=data.columns.tolist())\n",
    "\n",
    "year = data['Year'].astype(str)\n",
    "data['Year'] = pd.to_datetime(year)\n",
    "    # Set 'date' column as the index\n",
    "data.set_index('Year', inplace=True)\n",
    "\n",
    "\n",
    "model = pm.auto_arima(data['GDP'])\n",
    "\n",
    "print(model.summary())"
   ]
  },
  {
   "cell_type": "code",
   "execution_count": null,
   "metadata": {},
   "outputs": [],
   "source": [
    "index_of_fc= pd.date_range(start=data.index[-1], periods=12+1, freq='A')[1:]\n",
    "index_of_fc"
   ]
  },
  {
   "cell_type": "code",
   "execution_count": null,
   "metadata": {},
   "outputs": [],
   "source": [
    "# Forecast\n",
    "\n",
    "# make series for plotting purpose\n",
    "n_periods = 12  # For example, forecasting 12 months ahead\n",
    "\n",
    "\n",
    "# Forecast using the fitted model\n",
    "fitted, confint = model.predict(n_periods=n_periods, return_conf_int=True)\n",
    "\n",
    "# Create a series for plotting purposes\n",
    "fitted_series = pd.Series(fitted, index=index_of_fc)\n",
    "lower_series = pd.Series(confint[:, 0], index=index_of_fc)\n",
    "upper_series = pd.Series(confint[:, 1], index=index_of_fc)\n",
    "\n",
    "# Plot\n",
    "plt.plot(data)\n",
    "plt.plot(fitted, color='darkgreen')\n",
    "\n",
    "\n",
    "plt.show()"
   ]
  },
  {
   "cell_type": "code",
   "execution_count": null,
   "metadata": {},
   "outputs": [],
   "source": [
    "from statsmodels.tsa.arima_model import ARIMA\n",
    "import pmdarima as pm\n",
    "\n",
    "data = pd.read_csv('albania_gdp_data.csv')\n",
    "\n",
    "# Sort the DataFrame in ascending order\n",
    "data = data.sort_values(by=data.columns.tolist())\n",
    "\n",
    "year = data['Year'].astype(str)\n",
    "data['Year'] = pd.to_datetime(year)\n",
    "    # Set 'date' column as the index\n",
    "data.set_index('Year', inplace=True)\n",
    "\n",
    "\n",
    "model = pm.auto_arima(data['GDP']\n",
    "    )\n",
    "\n",
    "print(model.summary())"
   ]
  },
  {
   "cell_type": "code",
   "execution_count": null,
   "metadata": {},
   "outputs": [],
   "source": [
    "# Forecast\n",
    "\n",
    "# make series for plotting purpose\n",
    "n_periods = 12  # For example, forecasting 12 months ahead\n",
    "\n",
    "\n",
    "# Forecast using the fitted model\n",
    "fitted, confint = model.predict(n_periods=n_periods, return_conf_int=True)\n",
    "\n",
    "# Create a series for plotting purposes\n",
    "fitted_series = pd.Series(fitted, index=index_of_fc)\n",
    "lower_series = pd.Series(confint[:, 0], index=index_of_fc)\n",
    "upper_series = pd.Series(confint[:, 1], index=index_of_fc)\n",
    "\n",
    "# Plot\n",
    "plt.plot(data)\n",
    "plt.plot(fitted, color='darkgreen')\n",
    "\n",
    "\n",
    "plt.show()"
   ]
  }
 ],
 "metadata": {
  "language_info": {
   "name": "python"
  },
  "orig_nbformat": 4
 },
 "nbformat": 4,
 "nbformat_minor": 2
}
